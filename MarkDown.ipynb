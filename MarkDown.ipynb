{
 "cells": [
  {
   "cell_type": "markdown",
   "id": "0c217ed7",
   "metadata": {},
   "source": [
    "- List item\n",
    " - ddd\n",
    " - [x] List item\n",
    " - [x] List item\n",
    " - [ ] List item\n",
    " - [ ] List item\n",
    "\n",
    "\n",
    "\n",
    "\n",
    "> 这里是引用\n",
    "\n",
    "\n",
    "~~删除线格式~~ \n",
    "## 标题\n",
    "|2| 2 |\n",
    "|--|--|\n",
    "| 从 | 的 |\n",
    "\n",
    "[点我](https://editor.csdn.net/md/?not_checkout=1)\n",
    "\n",
    "![在这里插入图片描述](https://img-blog.csdnimg.cn/a2215bc5c26e4dea8a341a00c0679810.png#pic_center)"
   ]
  },
  {
   "cell_type": "code",
   "execution_count": null,
   "id": "a3662813",
   "metadata": {},
   "outputs": [],
   "source": []
  }
 ],
 "metadata": {
  "kernelspec": {
   "display_name": "Python [conda env:torch14] *",
   "language": "python",
   "name": "conda-env-torch14-py"
  },
  "language_info": {
   "codemirror_mode": {
    "name": "ipython",
    "version": 3
   },
   "file_extension": ".py",
   "mimetype": "text/x-python",
   "name": "python",
   "nbconvert_exporter": "python",
   "pygments_lexer": "ipython3",
   "version": "3.8.12"
  },
  "toc": {
   "base_numbering": 1,
   "nav_menu": {},
   "number_sections": true,
   "sideBar": true,
   "skip_h1_title": false,
   "title_cell": "Table of Contents",
   "title_sidebar": "Contents",
   "toc_cell": false,
   "toc_position": {},
   "toc_section_display": true,
   "toc_window_display": false
  }
 },
 "nbformat": 4,
 "nbformat_minor": 5
}
