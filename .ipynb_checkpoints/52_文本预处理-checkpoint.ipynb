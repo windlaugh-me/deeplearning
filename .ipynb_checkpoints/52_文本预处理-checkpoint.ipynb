{
 "cells": [
  {
   "cell_type": "markdown",
   "id": "66bf0bc9",
   "metadata": {},
   "source": [
    "# 文本预处理"
   ]
  },
  {
   "cell_type": "markdown",
   "id": "ddd55264",
   "metadata": {},
   "source": [
    "***核心思想***   \n",
    "如何把词变成可以训练的东西"
   ]
  },
  {
   "cell_type": "code",
   "execution_count": 19,
   "id": "20750587",
   "metadata": {},
   "outputs": [
    {
     "ename": "AttributeError",
     "evalue": "module 'torch' has no attribute '_utils_internal'",
     "output_type": "error",
     "traceback": [
      "\u001b[1;31m---------------------------------------------------------------------------\u001b[0m",
      "\u001b[1;31mAttributeError\u001b[0m                            Traceback (most recent call last)",
      "Input \u001b[1;32mIn [19]\u001b[0m, in \u001b[0;36m<cell line: 4>\u001b[1;34m()\u001b[0m\n\u001b[0;32m      2\u001b[0m \u001b[38;5;28;01mimport\u001b[39;00m \u001b[38;5;21;01mre\u001b[39;00m\n\u001b[0;32m      3\u001b[0m \u001b[38;5;28;01mimport\u001b[39;00m \u001b[38;5;21;01md2l\u001b[39;00m\n\u001b[1;32m----> 4\u001b[0m \u001b[38;5;28;01mfrom\u001b[39;00m \u001b[38;5;21;01md2l\u001b[39;00m \u001b[38;5;28;01mimport\u001b[39;00m torch \u001b[38;5;28;01mas\u001b[39;00m d2l\n",
      "File \u001b[1;32mE:\\anaconda\\envs\\torch14\\lib\\site-packages\\d2l\\torch.py:6\u001b[0m, in \u001b[0;36m<module>\u001b[1;34m\u001b[0m\n\u001b[0;32m      4\u001b[0m \u001b[38;5;28;01mimport\u001b[39;00m \u001b[38;5;21;01mnumpy\u001b[39;00m \u001b[38;5;28;01mas\u001b[39;00m \u001b[38;5;21;01mnp\u001b[39;00m\n\u001b[0;32m      5\u001b[0m \u001b[38;5;28;01mimport\u001b[39;00m \u001b[38;5;21;01mtorch\u001b[39;00m\n\u001b[1;32m----> 6\u001b[0m \u001b[38;5;28;01mimport\u001b[39;00m \u001b[38;5;21;01mtorchvision\u001b[39;00m\n\u001b[0;32m      7\u001b[0m \u001b[38;5;28;01mfrom\u001b[39;00m \u001b[38;5;21;01mPIL\u001b[39;00m \u001b[38;5;28;01mimport\u001b[39;00m Image\n\u001b[0;32m      8\u001b[0m \u001b[38;5;28;01mfrom\u001b[39;00m \u001b[38;5;21;01mtorch\u001b[39;00m \u001b[38;5;28;01mimport\u001b[39;00m nn\n",
      "File \u001b[1;32mE:\\anaconda\\envs\\torch14\\lib\\site-packages\\torchvision\\__init__.py:4\u001b[0m, in \u001b[0;36m<module>\u001b[1;34m\u001b[0m\n\u001b[0;32m      1\u001b[0m \u001b[38;5;28;01mimport\u001b[39;00m \u001b[38;5;21;01mwarnings\u001b[39;00m\n\u001b[0;32m      2\u001b[0m \u001b[38;5;28;01mimport\u001b[39;00m \u001b[38;5;21;01mos\u001b[39;00m\n\u001b[1;32m----> 4\u001b[0m \u001b[38;5;28;01mfrom\u001b[39;00m \u001b[38;5;21;01m.\u001b[39;00m\u001b[38;5;21;01mextension\u001b[39;00m \u001b[38;5;28;01mimport\u001b[39;00m _HAS_OPS\n\u001b[0;32m      6\u001b[0m \u001b[38;5;28;01mfrom\u001b[39;00m \u001b[38;5;21;01mtorchvision\u001b[39;00m \u001b[38;5;28;01mimport\u001b[39;00m models\n\u001b[0;32m      7\u001b[0m \u001b[38;5;28;01mfrom\u001b[39;00m \u001b[38;5;21;01mtorchvision\u001b[39;00m \u001b[38;5;28;01mimport\u001b[39;00m datasets\n",
      "File \u001b[1;32mE:\\anaconda\\envs\\torch14\\lib\\site-packages\\torchvision\\extension.py:51\u001b[0m, in \u001b[0;36m<module>\u001b[1;34m\u001b[0m\n\u001b[0;32m     47\u001b[0m     torch\u001b[38;5;241m.\u001b[39mops\u001b[38;5;241m.\u001b[39mload_library(ext_specs\u001b[38;5;241m.\u001b[39morigin)\n\u001b[0;32m     50\u001b[0m \u001b[38;5;28;01mtry\u001b[39;00m:\n\u001b[1;32m---> 51\u001b[0m     \u001b[43m_register_extensions\u001b[49m\u001b[43m(\u001b[49m\u001b[43m)\u001b[49m\n\u001b[0;32m     52\u001b[0m     _HAS_OPS \u001b[38;5;241m=\u001b[39m \u001b[38;5;28;01mTrue\u001b[39;00m\n\u001b[0;32m     54\u001b[0m     \u001b[38;5;28;01mdef\u001b[39;00m \u001b[38;5;21m_has_ops\u001b[39m():  \u001b[38;5;66;03m# noqa: F811\u001b[39;00m\n",
      "File \u001b[1;32mE:\\anaconda\\envs\\torch14\\lib\\site-packages\\torchvision\\extension.py:47\u001b[0m, in \u001b[0;36m_register_extensions\u001b[1;34m()\u001b[0m\n\u001b[0;32m     45\u001b[0m \u001b[38;5;28;01mif\u001b[39;00m ext_specs \u001b[38;5;129;01mis\u001b[39;00m \u001b[38;5;28;01mNone\u001b[39;00m:\n\u001b[0;32m     46\u001b[0m     \u001b[38;5;28;01mraise\u001b[39;00m \u001b[38;5;167;01mImportError\u001b[39;00m\n\u001b[1;32m---> 47\u001b[0m \u001b[43mtorch\u001b[49m\u001b[38;5;241;43m.\u001b[39;49m\u001b[43mops\u001b[49m\u001b[38;5;241;43m.\u001b[39;49m\u001b[43mload_library\u001b[49m\u001b[43m(\u001b[49m\u001b[43mext_specs\u001b[49m\u001b[38;5;241;43m.\u001b[39;49m\u001b[43morigin\u001b[49m\u001b[43m)\u001b[49m\n",
      "File \u001b[1;32mE:\\anaconda\\envs\\torch14\\lib\\site-packages\\torch\\_ops.py:99\u001b[0m, in \u001b[0;36m_Ops.load_library\u001b[1;34m(self, path)\u001b[0m\n\u001b[0;32m     81\u001b[0m \u001b[38;5;28;01mdef\u001b[39;00m \u001b[38;5;21mload_library\u001b[39m(\u001b[38;5;28mself\u001b[39m, path):\n\u001b[0;32m     82\u001b[0m     \u001b[38;5;124;03m\"\"\"\u001b[39;00m\n\u001b[0;32m     83\u001b[0m \u001b[38;5;124;03m    Loads a shared library from the given path into the current process.\u001b[39;00m\n\u001b[0;32m     84\u001b[0m \n\u001b[1;32m   (...)\u001b[0m\n\u001b[0;32m     97\u001b[0m \u001b[38;5;124;03m        path (str): A path to a shared library to load.\u001b[39;00m\n\u001b[0;32m     98\u001b[0m \u001b[38;5;124;03m    \"\"\"\u001b[39;00m\n\u001b[1;32m---> 99\u001b[0m     path \u001b[38;5;241m=\u001b[39m \u001b[43mtorch\u001b[49m\u001b[38;5;241;43m.\u001b[39;49m\u001b[43m_utils_internal\u001b[49m\u001b[38;5;241m.\u001b[39mresolve_library_path(path)\n\u001b[0;32m    100\u001b[0m     \u001b[38;5;28;01mwith\u001b[39;00m dl_open_guard():\n\u001b[0;32m    101\u001b[0m         \u001b[38;5;66;03m# Import the shared library into the process, thus running its\u001b[39;00m\n\u001b[0;32m    102\u001b[0m         \u001b[38;5;66;03m# static (global) initialization code in order to register custom\u001b[39;00m\n\u001b[0;32m    103\u001b[0m         \u001b[38;5;66;03m# operators with the JIT.\u001b[39;00m\n\u001b[0;32m    104\u001b[0m         ctypes\u001b[38;5;241m.\u001b[39mCDLL(path)\n",
      "\u001b[1;31mAttributeError\u001b[0m: module 'torch' has no attribute '_utils_internal'"
     ]
    }
   ],
   "source": [
    "import collections\n",
    "import re\n",
    "import d2l\n",
    "from d2l import torch as d2l"
   ]
  },
  {
   "cell_type": "markdown",
   "id": "7a3dc3c8",
   "metadata": {},
   "source": [
    "## 读数据集"
   ]
  },
  {
   "cell_type": "code",
   "execution_count": 20,
   "id": "a47ad2dd",
   "metadata": {
    "scrolled": true
   },
   "outputs": [
    {
     "ename": "AttributeError",
     "evalue": "module 'd2l' has no attribute 'DATA_URL'",
     "output_type": "error",
     "traceback": [
      "\u001b[1;31m---------------------------------------------------------------------------\u001b[0m",
      "\u001b[1;31mAttributeError\u001b[0m                            Traceback (most recent call last)",
      "Input \u001b[1;32mIn [20]\u001b[0m, in \u001b[0;36m<cell line: 2>\u001b[1;34m()\u001b[0m\n\u001b[0;32m      1\u001b[0m \u001b[38;5;66;03m#下载一本书 是一个txt文件\u001b[39;00m\n\u001b[1;32m----> 2\u001b[0m d2l\u001b[38;5;241m.\u001b[39mDATA_HUB[\u001b[38;5;124m'\u001b[39m\u001b[38;5;124mtime_machine\u001b[39m\u001b[38;5;124m'\u001b[39m] \u001b[38;5;241m=\u001b[39m (\u001b[43md2l\u001b[49m\u001b[38;5;241;43m.\u001b[39;49m\u001b[43mDATA_URL\u001b[49m \u001b[38;5;241m+\u001b[39m \u001b[38;5;124m'\u001b[39m\u001b[38;5;124mtimemachine.txt\u001b[39m\u001b[38;5;124m'\u001b[39m,\n\u001b[0;32m      3\u001b[0m                                 \u001b[38;5;124m'\u001b[39m\u001b[38;5;124m090b5e7e70c295757f55df93cb0a180b9691891a\u001b[39m\u001b[38;5;124m'\u001b[39m)\n\u001b[0;32m      5\u001b[0m \u001b[38;5;66;03m#将数据集读取到由文本行组成的列表中\u001b[39;00m\n\u001b[0;32m      6\u001b[0m \u001b[38;5;28;01mdef\u001b[39;00m \u001b[38;5;21mread_time_machine\u001b[39m():  \n",
      "\u001b[1;31mAttributeError\u001b[0m: module 'd2l' has no attribute 'DATA_URL'"
     ]
    }
   ],
   "source": [
    "#下载一本书 是一个txt文件\n",
    "d2l.DATA_HUB['time_machine'] = (d2l.DATA_URL + 'timemachine.txt',\n",
    "                                '090b5e7e70c295757f55df93cb0a180b9691891a')\n",
    "\n",
    "#将数据集读取到由文本行组成的列表中\n",
    "def read_time_machine():  \n",
    "    \"\"\"Load the time machine dataset into a list of text lines.\"\"\"\n",
    "    with open(d2l.download('time_machine'), 'r') as f:\n",
    "        lines = f.readlines()\n",
    "    #把非大小写字母的变成空格 lower()变小写\n",
    "    return [re.sub('[^A-Za-z]+', ' ', line).strip().lower() for line in lines]\n",
    "\n",
    "\n",
    "# lines为一维列表，每一个元素代表一行文本\n",
    "lines = read_time_machine()\n",
    "## text lines: 3221\n",
    "print(f)\n",
    "print(lines[0])\n",
    "print(lines[10])"
   ]
  },
  {
   "cell_type": "markdown",
   "id": "b956465b",
   "metadata": {},
   "source": [
    "## 翻译成token"
   ]
  },
  {
   "cell_type": "code",
   "execution_count": 21,
   "id": "21aa2ab0",
   "metadata": {},
   "outputs": [
    {
     "ename": "NameError",
     "evalue": "name 'lines' is not defined",
     "output_type": "error",
     "traceback": [
      "\u001b[1;31m---------------------------------------------------------------------------\u001b[0m",
      "\u001b[1;31mNameError\u001b[0m                                 Traceback (most recent call last)",
      "Input \u001b[1;32mIn [21]\u001b[0m, in \u001b[0;36m<cell line: 11>\u001b[1;34m()\u001b[0m\n\u001b[0;32m      8\u001b[0m     \u001b[38;5;28;01melse\u001b[39;00m:\n\u001b[0;32m      9\u001b[0m         \u001b[38;5;28mprint\u001b[39m(\u001b[38;5;124m'\u001b[39m\u001b[38;5;124m错误：未知令牌类型：\u001b[39m\u001b[38;5;124m'\u001b[39m \u001b[38;5;241m+\u001b[39m token)\n\u001b[1;32m---> 11\u001b[0m tokens \u001b[38;5;241m=\u001b[39m tokenize(\u001b[43mlines\u001b[49m)\n\u001b[0;32m     12\u001b[0m \u001b[38;5;28;01mfor\u001b[39;00m i \u001b[38;5;129;01min\u001b[39;00m \u001b[38;5;28mrange\u001b[39m(\u001b[38;5;241m11\u001b[39m):\n\u001b[0;32m     13\u001b[0m     \u001b[38;5;28mprint\u001b[39m(tokens[i])\n",
      "\u001b[1;31mNameError\u001b[0m: name 'lines' is not defined"
     ]
    }
   ],
   "source": [
    "#token翻译成词元\n",
    "def tokenize(lines, token='word'):  \n",
    "    \"\"\"将文本行拆分为单词或字符标记。\"\"\"\n",
    "    if token == 'word':\n",
    "        return [line.split() for line in lines]\n",
    "    elif token == 'char':\n",
    "        return [list(line) for line in lines]\n",
    "    else:\n",
    "        print('错误：未知令牌类型：' + token)\n",
    "\n",
    "# 得到tokens为二维列表，表示将原始文本的每一行都切成词元后的结果\n",
    "tokens = tokenize(lines)\n",
    "for i in range(11):\n",
    "    print(tokens[i])"
   ]
  },
  {
   "cell_type": "markdown",
   "id": "05f3fe26",
   "metadata": {},
   "source": [
    "## 构建一个字典，通常也叫做词表（vocabulary），用来将字符串标记映射到从0开始的数字索引中"
   ]
  },
  {
   "cell_type": "code",
   "execution_count": null,
   "id": "cdc7e393",
   "metadata": {},
   "outputs": [],
   "source": [
    "#把不同的token映射到一个从0开始的索引上面\n",
    "#min_freq 如果一个token出现的次数少于min_freq，就丢掉，就不训练了\n",
    "class Vocab:  \n",
    "    \"\"\"文本词表\"\"\"\n",
    "    def __init__(self, tokens=None, min_freq=0, reserved_tokens=None):\n",
    "        if tokens is None:\n",
    "            tokens = []\n",
    "        if reserved_tokens is None:\n",
    "            reserved_tokens = []\n",
    "        # 得到 {词元:出现次数} 形式的字典\n",
    "        counter = count_corpus(tokens)\n",
    "        #对token出现次数排序\n",
    "        #key=lambda x: x[1]代表以x[1]排序，也就是出现次数排序\n",
    "        #reverse=True是指倒序排序\n",
    "        self.token_freqs = sorted(counter.items(), key=lambda x: x[1],reverse=True)\n",
    "        #self.unk是未知token，下标为0.reserved_tokens是保留的词元，保留的词元放在未知词元后面\n",
    "        self.unk, uniq_tokens = 0, ['<unk>'] + reserved_tokens\n",
    "        uniq_tokens += [\n",
    "            token for token, freq in self.token_freqs\n",
    "            #如果一个token出现的次数少于min_freq，就丢掉，就不训练了，样本个数太少的话，训练也没有意义\n",
    "            if freq >= min_freq and token not in uniq_tokens]\n",
    "        self.idx_to_token, self.token_to_idx = [], dict()\n",
    "        for token in uniq_tokens:\n",
    "             # 下标:词元 映射中就把该词元加进去，同时更新{词元:对应的下标idx}的字典\n",
    "            self.idx_to_token.append(token) \n",
    "            self.token_to_idx[token] = len(self.idx_to_token) - 1\n",
    "\n",
    "\n",
    "    #长度是uniq_tokens的个数\n",
    "    def __len__(self):\n",
    "        return len(self.idx_to_token)\n",
    "\n",
    "    #给一个token 返回index\n",
    "    def __getitem__(self, tokens):\n",
    "        # # 判断tokens是不是列表或元组，如果是，则返回tokens对应的idx值\n",
    "        if not isinstance(tokens, (list, tuple)): #判断是否为一个词语\n",
    "            # 如果token_to_idx里有tokens就返回对应的值，否则返回self.unk\n",
    "            return self.token_to_idx.get(tokens, self.unk)\n",
    "        return [self.__getitem__(token) for token in tokens] #如果为句子，则以列表形式返回\n",
    "\n",
    "    #给index 返回token\n",
    "    def to_tokens(self, indices):\n",
    "        if not isinstance(indices, (list, tuple)):#判断是否为1个id\n",
    "            return self.idx_to_token[indices]\n",
    "        return [self.idx_to_token[index] for index in indices] #如果为句子，则以列表形式返回\n",
    "\n",
    "#这里的tokens是1维或2维列表\n",
    "def count_corpus(tokens):  \n",
    "    \"\"\"统计标记的频率。\"\"\"\n",
    "    ## 一维列表为空 or 是二维列表\n",
    "    if len(tokens) == 0 or isinstance(tokens[0], list):\n",
    "        # 将词元列表展平成一个列表\n",
    "        tokens = [token for line in tokens for token in line]\n",
    "    #计算每个token出现的次数\n",
    "    #返回字典形式的key:value统计个数，注意没有排序哦\n",
    "    return collections.Counter(tokens)"
   ]
  },
  {
   "cell_type": "markdown",
   "id": "c393d1bf",
   "metadata": {},
   "source": [
    "## 构建词汇表"
   ]
  },
  {
   "cell_type": "code",
   "execution_count": 22,
   "id": "19f45000",
   "metadata": {},
   "outputs": [
    {
     "ename": "NameError",
     "evalue": "name 'Vocab' is not defined",
     "output_type": "error",
     "traceback": [
      "\u001b[1;31m---------------------------------------------------------------------------\u001b[0m",
      "\u001b[1;31mNameError\u001b[0m                                 Traceback (most recent call last)",
      "Input \u001b[1;32mIn [22]\u001b[0m, in \u001b[0;36m<cell line: 1>\u001b[1;34m()\u001b[0m\n\u001b[1;32m----> 1\u001b[0m vocab \u001b[38;5;241m=\u001b[39m \u001b[43mVocab\u001b[49m(tokens)\n\u001b[0;32m      2\u001b[0m \u001b[38;5;28mprint\u001b[39m(\u001b[38;5;28mlist\u001b[39m(vocab\u001b[38;5;241m.\u001b[39mtoken_to_idx\u001b[38;5;241m.\u001b[39mitems())[:\u001b[38;5;241m10\u001b[39m])\n",
      "\u001b[1;31mNameError\u001b[0m: name 'Vocab' is not defined"
     ]
    }
   ],
   "source": [
    "vocab = Vocab(tokens)\n",
    "print(list(vocab.token_to_idx.items())[:10])"
   ]
  },
  {
   "cell_type": "markdown",
   "id": "4b01fc30",
   "metadata": {},
   "source": [
    "## 将每一行文本转换成一个数字索引列表"
   ]
  },
  {
   "cell_type": "code",
   "execution_count": 23,
   "id": "45be4f2e",
   "metadata": {},
   "outputs": [
    {
     "ename": "NameError",
     "evalue": "name 'tokens' is not defined",
     "output_type": "error",
     "traceback": [
      "\u001b[1;31m---------------------------------------------------------------------------\u001b[0m",
      "\u001b[1;31mNameError\u001b[0m                                 Traceback (most recent call last)",
      "Input \u001b[1;32mIn [23]\u001b[0m, in \u001b[0;36m<cell line: 1>\u001b[1;34m()\u001b[0m\n\u001b[0;32m      1\u001b[0m \u001b[38;5;28;01mfor\u001b[39;00m i \u001b[38;5;129;01min\u001b[39;00m [\u001b[38;5;241m0\u001b[39m, \u001b[38;5;241m10\u001b[39m]:\n\u001b[1;32m----> 2\u001b[0m     \u001b[38;5;28mprint\u001b[39m(\u001b[38;5;124m'\u001b[39m\u001b[38;5;124mwords:\u001b[39m\u001b[38;5;124m'\u001b[39m, \u001b[43mtokens\u001b[49m[i])\n\u001b[0;32m      3\u001b[0m     \u001b[38;5;28mprint\u001b[39m(\u001b[38;5;124m'\u001b[39m\u001b[38;5;124mindices:\u001b[39m\u001b[38;5;124m'\u001b[39m, vocab[tokens[i]])\n",
      "\u001b[1;31mNameError\u001b[0m: name 'tokens' is not defined"
     ]
    }
   ],
   "source": [
    "for i in [0, 10]:\n",
    "    print('words:', tokens[i])\n",
    "    print('indices:', vocab[tokens[i]])"
   ]
  },
  {
   "cell_type": "code",
   "execution_count": 24,
   "id": "604f82b7",
   "metadata": {},
   "outputs": [
    {
     "ename": "NameError",
     "evalue": "name 'read_time_machine' is not defined",
     "output_type": "error",
     "traceback": [
      "\u001b[1;31m---------------------------------------------------------------------------\u001b[0m",
      "\u001b[1;31mNameError\u001b[0m                                 Traceback (most recent call last)",
      "Input \u001b[1;32mIn [24]\u001b[0m, in \u001b[0;36m<cell line: 25>\u001b[1;34m()\u001b[0m\n\u001b[0;32m     22\u001b[0m         corpus \u001b[38;5;241m=\u001b[39m corpus[:max_tokens]\n\u001b[0;32m     23\u001b[0m     \u001b[38;5;28;01mreturn\u001b[39;00m corpus, vocab\n\u001b[1;32m---> 25\u001b[0m corpus, vocab \u001b[38;5;241m=\u001b[39m \u001b[43mload_corpus_time_machine\u001b[49m\u001b[43m(\u001b[49m\u001b[43m)\u001b[49m\n\u001b[0;32m     26\u001b[0m \u001b[38;5;28mlen\u001b[39m(corpus), \u001b[38;5;28mlen\u001b[39m(vocab)\n",
      "Input \u001b[1;32mIn [24]\u001b[0m, in \u001b[0;36mload_corpus_time_machine\u001b[1;34m(max_tokens)\u001b[0m\n\u001b[0;32m      8\u001b[0m \u001b[38;5;28;01mdef\u001b[39;00m \u001b[38;5;21mload_corpus_time_machine\u001b[39m(max_tokens\u001b[38;5;241m=\u001b[39m\u001b[38;5;241m-\u001b[39m\u001b[38;5;241m1\u001b[39m):  \n\u001b[0;32m      9\u001b[0m     \u001b[38;5;124;03m\"\"\"返回时光机器数据集的标记索引列表和词汇表。\"\"\"\u001b[39;00m\n\u001b[1;32m---> 10\u001b[0m     lines \u001b[38;5;241m=\u001b[39m \u001b[43mread_time_machine\u001b[49m()\n\u001b[0;32m     11\u001b[0m     tokens \u001b[38;5;241m=\u001b[39m tokenize(lines, \u001b[38;5;124m'\u001b[39m\u001b[38;5;124mchar\u001b[39m\u001b[38;5;124m'\u001b[39m)\n\u001b[0;32m     12\u001b[0m     vocab \u001b[38;5;241m=\u001b[39m Vocab(tokens)\n",
      "\u001b[1;31mNameError\u001b[0m: name 'read_time_machine' is not defined"
     ]
    }
   ],
   "source": [
    "#所有内容打包到load_corpus_time_machine函数中\n",
    "'''在使⽤上述函数时，我们将所有功能打包到load_corpus_time_machine函数中，该函数返回\n",
    "corpus（词元索引列表）和vocab（时光机器语料库的词表）。我们在这⾥所做的改变是：\n",
    "    1. 为了简化后⾯章节中的训练，我们使⽤字符（⽽不是单词）实现⽂本词元化；\n",
    "    2. 时光机器数据集中的每个⽂本⾏不⼀定是⼀个句⼦或⼀个段落，还可能是⼀个单词，因此\n",
    "    返回的corpus仅处理为单个列表，⽽不是使⽤多词元列表构成的⼀个列表\n",
    "'''\n",
    "def load_corpus_time_machine(max_tokens=-1):  \n",
    "    \"\"\"返回时光机器数据集的标记索引列表和词汇表。\"\"\"\n",
    "    lines = read_time_machine()\n",
    "    tokens = tokenize(lines, 'char')\n",
    "    vocab = Vocab(tokens)\n",
    "    '''这里等价于\n",
    "        for line in tokens:\n",
    "            for token in line:\n",
    "                corpus.append(vocab[token])\n",
    "    也就是对于每一行的每个词元，我都去查一下词表，然后添加到corpus里面。\n",
    "    所以corpus存储的是《时光机器》这本书的词元表示，vocab是词表。\n",
    "    搞懂这个其实就可以了！'''\n",
    "    corpus = [vocab[token] for line in tokens for token in line]\n",
    "    if max_tokens > 0:\n",
    "        corpus = corpus[:max_tokens]\n",
    "    return corpus, vocab\n",
    "\n",
    "corpus, vocab = load_corpus_time_machine()\n",
    "len(corpus), len(vocab)"
   ]
  },
  {
   "cell_type": "code",
   "execution_count": null,
   "id": "c357d94f",
   "metadata": {},
   "outputs": [],
   "source": []
  }
 ],
 "metadata": {
  "kernelspec": {
   "display_name": "Python [conda env:torch14] *",
   "language": "python",
   "name": "conda-env-torch14-py"
  },
  "language_info": {
   "codemirror_mode": {
    "name": "ipython",
    "version": 3
   },
   "file_extension": ".py",
   "mimetype": "text/x-python",
   "name": "python",
   "nbconvert_exporter": "python",
   "pygments_lexer": "ipython3",
   "version": "3.8.12"
  },
  "toc": {
   "base_numbering": 1,
   "nav_menu": {},
   "number_sections": true,
   "sideBar": true,
   "skip_h1_title": false,
   "title_cell": "Table of Contents",
   "title_sidebar": "Contents",
   "toc_cell": false,
   "toc_position": {},
   "toc_section_display": true,
   "toc_window_display": false
  }
 },
 "nbformat": 4,
 "nbformat_minor": 5
}
