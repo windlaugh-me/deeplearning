{
 "cells": [
  {
   "cell_type": "markdown",
   "id": "b505db90",
   "metadata": {},
   "source": [
    "***数据处理***"
   ]
  },
  {
   "cell_type": "markdown",
   "id": "fd8ebb6a",
   "metadata": {},
   "source": [
    "导入pytorch，pytorch框架需要导入torch包"
   ]
  },
  {
   "cell_type": "code",
   "execution_count": 7,
   "id": "cacdbb20",
   "metadata": {},
   "outputs": [],
   "source": [
    "import torch"
   ]
  },
  {
   "cell_type": "markdown",
   "id": "ed748dde",
   "metadata": {},
   "source": [
    "张量表示一个数值组成的数组，这个数组可能有多个维度，随机创建一个数组，显示0-11一共12个随机数"
   ]
  },
  {
   "cell_type": "code",
   "execution_count": 8,
   "id": "e4ce9c54",
   "metadata": {},
   "outputs": [],
   "source": [
    "x=torch.arange(12)"
   ]
  },
  {
   "cell_type": "code",
   "execution_count": 9,
   "id": "ab2db88a",
   "metadata": {},
   "outputs": [
    {
     "data": {
      "text/plain": [
       "tensor([ 0,  1,  2,  3,  4,  5,  6,  7,  8,  9, 10, 11])"
      ]
     },
     "execution_count": 9,
     "metadata": {},
     "output_type": "execute_result"
    }
   ],
   "source": [
    "x"
   ]
  },
  {
   "cell_type": "code",
   "execution_count": null,
   "id": "225bf55f",
   "metadata": {},
   "outputs": [],
   "source": []
  },
  {
   "cell_type": "code",
   "execution_count": null,
   "id": "bdedd442",
   "metadata": {},
   "outputs": [],
   "source": [
    "vcd "
   ]
  },
  {
   "cell_type": "markdown",
   "id": "b0937d1d",
   "metadata": {},
   "source": [
    "可以通过张量的 ***shape*** 属性来访问张量的  ***形状和张量中元素的种数***"
   ]
  },
  {
   "cell_type": "code",
   "execution_count": 11,
   "id": "6002716b",
   "metadata": {},
   "outputs": [
    {
     "data": {
      "text/plain": [
       "torch.Size([12])"
      ]
     },
     "execution_count": 11,
     "metadata": {},
     "output_type": "execute_result"
    }
   ],
   "source": [
    "#张量的形状 一维的向量\n",
    "x.shape"
   ]
  },
  {
   "cell_type": "code",
   "execution_count": 12,
   "id": "bc418b7d",
   "metadata": {},
   "outputs": [
    {
     "data": {
      "text/plain": [
       "12"
      ]
     },
     "execution_count": 12,
     "metadata": {},
     "output_type": "execute_result"
    }
   ],
   "source": [
    "#张量中元素的种数，是一个标量\n",
    "x.numel()"
   ]
  },
  {
   "cell_type": "markdown",
   "id": "952911ef",
   "metadata": {},
   "source": [
    "改变一个张量的形状而不改变元素数量和元素值，调用 ***reshape*** 函数"
   ]
  },
  {
   "cell_type": "code",
   "execution_count": 13,
   "id": "2ffdb4c8",
   "metadata": {},
   "outputs": [
    {
     "data": {
      "text/plain": [
       "tensor([[ 0,  1,  2,  3],\n",
       "        [ 4,  5,  6,  7],\n",
       "        [ 8,  9, 10, 11]])"
      ]
     },
     "execution_count": 13,
     "metadata": {},
     "output_type": "execute_result"
    }
   ],
   "source": [
    "x=x.reshape(3,4)\n",
    "x"
   ]
  },
  {
   "cell_type": "markdown",
   "id": "ad5230c0",
   "metadata": {},
   "source": [
    "使用全0、1、其他常量或者从特定分部长随机采样的数字"
   ]
  },
  {
   "cell_type": "code",
   "execution_count": 14,
   "id": "e72a11fe",
   "metadata": {},
   "outputs": [
    {
     "data": {
      "text/plain": [
       "tensor([[[0., 0., 0., 0.],\n",
       "         [0., 0., 0., 0.],\n",
       "         [0., 0., 0., 0.]],\n",
       "\n",
       "        [[0., 0., 0., 0.],\n",
       "         [0., 0., 0., 0.],\n",
       "         [0., 0., 0., 0.]]])"
      ]
     },
     "execution_count": 14,
     "metadata": {},
     "output_type": "execute_result"
    }
   ],
   "source": [
    "torch.zeros(2,3,4)"
   ]
  },
  {
   "cell_type": "code",
   "execution_count": 15,
   "id": "b68a1feb",
   "metadata": {},
   "outputs": [
    {
     "data": {
      "text/plain": [
       "tensor([[[1., 1., 1., 1.],\n",
       "         [1., 1., 1., 1.],\n",
       "         [1., 1., 1., 1.]],\n",
       "\n",
       "        [[1., 1., 1., 1.],\n",
       "         [1., 1., 1., 1.],\n",
       "         [1., 1., 1., 1.]]])"
      ]
     },
     "execution_count": 15,
     "metadata": {},
     "output_type": "execute_result"
    }
   ],
   "source": [
    "torch.ones(2,3,4)"
   ]
  },
  {
   "cell_type": "markdown",
   "id": "4842c1fa",
   "metadata": {},
   "source": [
    "张量中每个元素赋予确定值：提供包含数值的python列表（嵌套列表）"
   ]
  },
  {
   "cell_type": "code",
   "execution_count": 19,
   "id": "2856c91e",
   "metadata": {
    "scrolled": true
   },
   "outputs": [
    {
     "data": {
      "text/plain": [
       "tensor([[[2, 1, 3, 4],\n",
       "         [1, 2, 3, 4],\n",
       "         [4, 3, 2, 1]]])"
      ]
     },
     "execution_count": 19,
     "metadata": {},
     "output_type": "execute_result"
    }
   ],
   "source": [
    "#创建一个三维数组\n",
    "torch.tensor([[[2,1,3,4],[1,2,3,4],[4,3,2,1]]])"
   ]
  },
  {
   "cell_type": "code",
   "execution_count": 20,
   "id": "b009439f",
   "metadata": {},
   "outputs": [
    {
     "data": {
      "text/plain": [
       "torch.Size([1, 3, 4])"
      ]
     },
     "execution_count": 20,
     "metadata": {},
     "output_type": "execute_result"
    }
   ],
   "source": [
    "#打印数组的形状\n",
    "torch.tensor([[[2,1,3,4],[1,2,3,4],[4,3,2,1]]]).shape"
   ]
  },
  {
   "cell_type": "markdown",
   "id": "1ed08b05",
   "metadata": {},
   "source": [
    "标准的算术运算符，按元素运算"
   ]
  },
  {
   "cell_type": "code",
   "execution_count": 22,
   "id": "a07bc502",
   "metadata": {},
   "outputs": [
    {
     "data": {
      "text/plain": [
       "(tensor([ 3.,  4.,  6., 10.]),\n",
       " tensor([-1.,  0.,  2.,  6.]),\n",
       " tensor([ 2.,  4.,  8., 16.]),\n",
       " tensor([0.5000, 1.0000, 2.0000, 4.0000]),\n",
       " tensor([ 1.,  4., 16., 64.]))"
      ]
     },
     "execution_count": 22,
     "metadata": {},
     "output_type": "execute_result"
    }
   ],
   "source": [
    "#1.0是一个浮点数\n",
    "x=torch.tensor([1.0,2,4,8])\n",
    "y=torch.tensor([2,2,2,2])\n",
    "x+y,x-y,x*y,x/y,x**y"
   ]
  },
  {
   "cell_type": "code",
   "execution_count": 23,
   "id": "cbcd13e1",
   "metadata": {},
   "outputs": [
    {
     "data": {
      "text/plain": [
       "tensor([2.7183e+00, 7.3891e+00, 5.4598e+01, 2.9810e+03])"
      ]
     },
     "execution_count": 23,
     "metadata": {},
     "output_type": "execute_result"
    }
   ],
   "source": [
    "#按元素做指数的运算\n",
    "torch.exp(x)"
   ]
  },
  {
   "cell_type": "markdown",
   "id": "001b4e2c",
   "metadata": {},
   "source": [
    "多个张量拼接"
   ]
  },
  {
   "cell_type": "code",
   "execution_count": 40,
   "id": "7be2e96f",
   "metadata": {},
   "outputs": [
    {
     "data": {
      "text/plain": [
       "(tensor([[[ 0.,  1.,  2.,  3.],\n",
       "          [ 4.,  5.,  6.,  7.],\n",
       "          [ 8.,  9., 10., 11.]]]),\n",
       " tensor([[[2, 1, 3, 4],\n",
       "          [1, 2, 3, 4],\n",
       "          [4, 3, 2, 1]]]),\n",
       " tensor([[[ 0.,  1.,  2.,  3.],\n",
       "          [ 4.,  5.,  6.,  7.],\n",
       "          [ 8.,  9., 10., 11.]],\n",
       " \n",
       "         [[ 2.,  1.,  3.,  4.],\n",
       "          [ 1.,  2.,  3.,  4.],\n",
       "          [ 4.,  3.,  2.,  1.]]]),\n",
       " tensor([[[ 0.,  1.,  2.,  3.],\n",
       "          [ 4.,  5.,  6.,  7.],\n",
       "          [ 8.,  9., 10., 11.],\n",
       "          [ 2.,  1.,  3.,  4.],\n",
       "          [ 1.,  2.,  3.,  4.],\n",
       "          [ 4.,  3.,  2.,  1.]]]),\n",
       " tensor([[[ 0.,  1.,  2.,  3.,  2.,  1.,  3.,  4.],\n",
       "          [ 4.,  5.,  6.,  7.,  1.,  2.,  3.,  4.],\n",
       "          [ 8.,  9., 10., 11.,  4.,  3.,  2.,  1.]]]))"
      ]
     },
     "execution_count": 40,
     "metadata": {},
     "output_type": "execute_result"
    }
   ],
   "source": [
    "#三维数组 dim=0相当于两个tensor整体拼接 dim=1按行拼接 dim=2按列拼接\n",
    "x=torch.arange(12,dtype=torch.float32).reshape(1,3,4)\n",
    "y=torch.tensor([[[2,1,3,4],[1,2,3,4],[4,3,2,1]]])\n",
    "x,y,torch.cat((x,y),dim=0),torch.cat((x,y),dim=1),torch.cat((x,y),dim=2)"
   ]
  },
  {
   "cell_type": "code",
   "execution_count": 36,
   "id": "004e7747",
   "metadata": {},
   "outputs": [
    {
     "ename": "SyntaxError",
     "evalue": "invalid character in identifier (614566227.py, line 1)",
     "output_type": "error",
     "traceback": [
      "\u001b[1;36m  Input \u001b[1;32mIn [36]\u001b[1;36m\u001b[0m\n\u001b[1;33m    y=torch.tensor([[[2,1,3,4],[1,2,3,4],[4,3,2,1]]，[[1,2,3,4],[5,6,7,8],[9,0,1,2]]])\u001b[0m\n\u001b[1;37m                                                   ^\u001b[0m\n\u001b[1;31mSyntaxError\u001b[0m\u001b[1;31m:\u001b[0m invalid character in identifier\n"
     ]
    }
   ],
   "source": [
    "y=torch.tensor([[[2,1,3,4],[1,2,3,4],[4,3,2,1]]，[[1,2,3,4],[5,6,7,8],[9,0,1,2]]])\n",
    "y"
   ]
  },
  {
   "cell_type": "code",
   "execution_count": 31,
   "id": "407fc02f",
   "metadata": {},
   "outputs": [
    {
     "data": {
      "text/plain": [
       "(tensor([[ 0.,  1.,  2.,  3.],\n",
       "         [ 4.,  5.,  6.,  7.],\n",
       "         [ 8.,  9., 10., 11.]]),\n",
       " tensor([[2, 1, 3, 4],\n",
       "         [1, 2, 3, 4],\n",
       "         [4, 3, 2, 1]]),\n",
       " tensor([[ 0.,  1.,  2.,  3.],\n",
       "         [ 4.,  5.,  6.,  7.],\n",
       "         [ 8.,  9., 10., 11.],\n",
       "         [ 2.,  1.,  3.,  4.],\n",
       "         [ 1.,  2.,  3.,  4.],\n",
       "         [ 4.,  3.,  2.,  1.]]),\n",
       " tensor([[ 0.,  1.,  2.,  3.,  2.,  1.,  3.,  4.],\n",
       "         [ 4.,  5.,  6.,  7.,  1.,  2.,  3.,  4.],\n",
       "         [ 8.,  9., 10., 11.,  4.,  3.,  2.,  1.]]))"
      ]
     },
     "execution_count": 31,
     "metadata": {},
     "output_type": "execute_result"
    }
   ],
   "source": [
    "#二维数组  dim=1按行拼接 dim=2按列拼接\n",
    "x=torch.arange(12,dtype=torch.float32).reshape(3,4)\n",
    "y=torch.tensor([[2,1,3,4],[1,2,3,4],[4,3,2,1]])\n",
    "x,y,torch.cat((x,y),dim=0),torch.cat((x,y),dim=1)"
   ]
  },
  {
   "cell_type": "code",
   "execution_count": 41,
   "id": "ec978a7b",
   "metadata": {},
   "outputs": [
    {
     "data": {
      "text/plain": [
       "tensor([[[False,  True, False, False],\n",
       "         [False, False, False, False],\n",
       "         [False, False, False, False]]])"
      ]
     },
     "execution_count": 41,
     "metadata": {},
     "output_type": "execute_result"
    }
   ],
   "source": [
    "#按逻辑运算构建一个张量\n",
    "x==y"
   ]
  },
  {
   "cell_type": "code",
   "execution_count": 42,
   "id": "c1caa061",
   "metadata": {},
   "outputs": [
    {
     "data": {
      "text/plain": [
       "tensor(30)"
      ]
     },
     "execution_count": 42,
     "metadata": {},
     "output_type": "execute_result"
    }
   ],
   "source": [
    "#对张量中所有元素求和，得到一个只有一个元素的张量\n",
    "y.sum()"
   ]
  },
  {
   "cell_type": "markdown",
   "id": "3b76ad6d",
   "metadata": {},
   "source": [
    "即使形状不同，仍然可以调用 ***广播机制（broadcasting machanism)*** 来执行按元素操纵"
   ]
  },
  {
   "cell_type": "code",
   "execution_count": 46,
   "id": "87883492",
   "metadata": {},
   "outputs": [
    {
     "data": {
      "text/plain": [
       "tensor([[0, 1],\n",
       "        [1, 2],\n",
       "        [2, 3]])"
      ]
     },
     "execution_count": 46,
     "metadata": {},
     "output_type": "execute_result"
    }
   ],
   "source": [
    "a=torch.arange(3).reshape(3,1)\n",
    "b=torch.arange(2).reshape(1,2)\n",
    "a+b"
   ]
  },
  {
   "cell_type": "code",
   "execution_count": 50,
   "id": "7cafff4b",
   "metadata": {},
   "outputs": [
    {
     "data": {
      "text/plain": [
       "(tensor([[ 0,  1,  2,  3],\n",
       "         [ 4,  5,  6,  7],\n",
       "         [ 8,  9, 10, 11]]),\n",
       " tensor([ 8,  9, 10, 11]),\n",
       " tensor([[ 4,  5,  6,  7],\n",
       "         [ 8,  9, 10, 11]]))"
      ]
     },
     "execution_count": 50,
     "metadata": {},
     "output_type": "execute_result"
    }
   ],
   "source": [
    "#x[-1]取出最后一行 x[1:3]取出第一行和第二行\n",
    "x=torch.arange(12).reshape(3,4)\n",
    "x,x[-1],x[1:3]"
   ]
  },
  {
   "cell_type": "code",
   "execution_count": 51,
   "id": "d747571c",
   "metadata": {},
   "outputs": [
    {
     "data": {
      "text/plain": [
       "tensor([[ 0,  1,  2,  3],\n",
       "        [ 4,  5,  9,  7],\n",
       "        [ 8,  9, 10, 11]])"
      ]
     },
     "execution_count": 51,
     "metadata": {},
     "output_type": "execute_result"
    }
   ],
   "source": [
    "#通过指定索引将元素写入矩阵\n",
    "x[1,2]=9\n",
    "x"
   ]
  },
  {
   "cell_type": "code",
   "execution_count": 52,
   "id": "edc5150b",
   "metadata": {},
   "outputs": [
    {
     "data": {
      "text/plain": [
       "tensor([[12, 12, 12, 12],\n",
       "        [12, 12, 12, 12],\n",
       "        [ 8,  9, 10, 11]])"
      ]
     },
     "execution_count": 52,
     "metadata": {},
     "output_type": "execute_result"
    }
   ],
   "source": [
    "#为多个元素赋相同的值。只需要索引所有元素，然后赋值\n",
    "x[0:2]=12\n",
    "x"
   ]
  },
  {
   "cell_type": "code",
   "execution_count": 54,
   "id": "22f0c2bb",
   "metadata": {},
   "outputs": [
    {
     "data": {
      "text/plain": [
       "tensor([[12, 12, 12, 12],\n",
       "        [12, 12, 12, 12],\n",
       "        [ 8,  9, 10, 11]])"
      ]
     },
     "execution_count": 54,
     "metadata": {},
     "output_type": "execute_result"
    }
   ],
   "source": [
    "#不写冒号代表所有元素，加上冒号也代表所有元素\n",
    "x[0:2,:]=12\n",
    "x"
   ]
  },
  {
   "cell_type": "markdown",
   "id": "37e57b1e",
   "metadata": {},
   "source": [
    "运行一些操作可能会导致为新结果分配内存,不需要了解太多"
   ]
  },
  {
   "cell_type": "code",
   "execution_count": 55,
   "id": "c9fd366f",
   "metadata": {},
   "outputs": [
    {
     "data": {
      "text/plain": [
       "False"
      ]
     },
     "execution_count": 55,
     "metadata": {},
     "output_type": "execute_result"
    }
   ],
   "source": [
    "#id(y)类似于指针，y的唯一标识号\n",
    "before=id(y)\n",
    "#创建了一个新的名字叫y的变量，和之前的y不共享内存\n",
    "y=y+x\n",
    "id(y)==before"
   ]
  },
  {
   "cell_type": "code",
   "execution_count": 65,
   "id": "289140ff",
   "metadata": {},
   "outputs": [
    {
     "name": "stdout",
     "output_type": "stream",
     "text": [
      "z的id 2870713695680\n",
      "z的id 2870713695680\n"
     ]
    }
   ],
   "source": [
    "#执行原地操作\n",
    "x=torch.arange(12).reshape(3,4)\n",
    "y=torch.tensor([[2,1,3,4],[1,2,3,4],[4,3,2,1]])\n",
    "#创建一个和y的元素类型和形状一样的元素数值全部为0的张量\n",
    "z=torch.zeros_like(y)\n",
    "print(\"z的id\",id(z))\n",
    "z[:]=x+y\n",
    "print(\"z的id\",id(z))"
   ]
  },
  {
   "cell_type": "code",
   "execution_count": null,
   "id": "90acc2ae",
   "metadata": {},
   "outputs": [],
   "source": [
    "#若是后续x没有重复使用，可以使用x[:]=x+y或者x+=y来减少操作的内存开销"
   ]
  },
  {
   "cell_type": "code",
   "execution_count": 67,
   "id": "936d46e1",
   "metadata": {},
   "outputs": [
    {
     "data": {
      "text/plain": [
       "True"
      ]
     },
     "execution_count": 67,
     "metadata": {},
     "output_type": "execute_result"
    }
   ],
   "source": [
    "before=id(x)\n",
    "x+=y\n",
    "id(x)==before"
   ]
  },
  {
   "cell_type": "markdown",
   "id": "27911480",
   "metadata": {},
   "source": [
    "Numpy是python中最常用最基础的运算框架，转换为Numpy张量"
   ]
  },
  {
   "cell_type": "code",
   "execution_count": 70,
   "id": "7d42b42b",
   "metadata": {},
   "outputs": [
    {
     "data": {
      "text/plain": [
       "(numpy.ndarray, torch.Tensor)"
      ]
     },
     "execution_count": 70,
     "metadata": {},
     "output_type": "execute_result"
    }
   ],
   "source": [
    "A=x.numpy()\n",
    "B=torch.tensor(A)\n",
    "type(A),type(B)"
   ]
  },
  {
   "cell_type": "code",
   "execution_count": 71,
   "id": "8d83be25",
   "metadata": {},
   "outputs": [
    {
     "data": {
      "text/plain": [
       "(tensor([3]), 3, 3.0, 3)"
      ]
     },
     "execution_count": 71,
     "metadata": {},
     "output_type": "execute_result"
    }
   ],
   "source": [
    "#将大小为1的张量转换为python标量\n",
    "a=torch.tensor([3])\n",
    "a,a.item(),float(a),int(a)"
   ]
  },
  {
   "cell_type": "code",
   "execution_count": null,
   "id": "5014b5f6",
   "metadata": {},
   "outputs": [],
   "source": []
  }
 ],
 "metadata": {
  "kernelspec": {
   "display_name": "Python 3 (ipykernel)",
   "language": "python",
   "name": "python3"
  },
  "language_info": {
   "codemirror_mode": {
    "name": "ipython",
    "version": 3
   },
   "file_extension": ".py",
   "mimetype": "text/x-python",
   "name": "python",
   "nbconvert_exporter": "python",
   "pygments_lexer": "ipython3",
   "version": "3.8.12"
  }
 },
 "nbformat": 4,
 "nbformat_minor": 5
}
