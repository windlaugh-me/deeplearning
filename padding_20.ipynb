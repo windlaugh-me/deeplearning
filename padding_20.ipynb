{
 "cells": [
  {
   "cell_type": "markdown",
   "id": "730cdb1a",
   "metadata": {},
   "source": [
    "# 填充和步幅"
   ]
  },
  {
   "cell_type": "markdown",
   "id": "d05da924",
   "metadata": {},
   "source": [
    "## 填充"
   ]
  },
  {
   "cell_type": "code",
   "execution_count": 2,
   "id": "c7348b5d",
   "metadata": {},
   "outputs": [
    {
     "data": {
      "text/plain": [
       "torch.Size([8, 8])"
      ]
     },
     "execution_count": 2,
     "metadata": {},
     "output_type": "execute_result"
    }
   ],
   "source": [
    "#所有侧边填充1个像素\n",
    "import torch\n",
    "from torch import nn\n",
    "\n",
    "conv2d=nn.Conv2d(1,1,kernel_size=(1,2),bias=False)\n",
    "def comp_conv2d(conv2d,X):\n",
    "    #输入调整形状，前面加上批量大小和通道数\n",
    "    X=X.reshape((1,1)+X.shape)\n",
    "    #得到输出，是一个4D张量\n",
    "    Y=conv2d(X)\n",
    "    #不要前面两个的批量大小和通道数，只取后面的数据\n",
    "    return Y.reshape(Y.shape[2:])\n",
    "\n",
    "#padding是指一侧填充的数据\n",
    "conv2d=nn.Conv2d(1,1,kernel_size=3,padding=1)\n",
    "#输入\n",
    "X=torch.rand(size=(8,8))\n",
    "#输入和输出一样，padding是1\n",
    "comp_conv2d(conv2d,X).shape"
   ]
  },
  {
   "cell_type": "code",
   "execution_count": 3,
   "id": "50eede14",
   "metadata": {
    "scrolled": true
   },
   "outputs": [
    {
     "data": {
      "text/plain": [
       "torch.Size([8, 8])"
      ]
     },
     "execution_count": 3,
     "metadata": {},
     "output_type": "execute_result"
    }
   ],
   "source": [
    "#填充不同的高度和宽度\n",
    "#若想让输入输出一样，那么padding=(2,1)\n",
    "conv2d=nn.Conv2d(1,1,kernel_size=(5,3),padding=(2,1))\n",
    "comp_conv2d(conv2d,X).shape"
   ]
  },
  {
   "cell_type": "markdown",
   "id": "ace4d2c5",
   "metadata": {},
   "source": [
    "## 步幅"
   ]
  },
  {
   "cell_type": "code",
   "execution_count": 5,
   "id": "2e5071e9",
   "metadata": {},
   "outputs": [
    {
     "data": {
      "text/plain": [
       "torch.Size([4, 4])"
      ]
     },
     "execution_count": 5,
     "metadata": {},
     "output_type": "execute_result"
    }
   ],
   "source": [
    "#将宽度和高度的步幅设置为2\n",
    "#输入能被2整除，所以直接除以2\n",
    "conv2d=nn.Conv2d(1,1,kernel_size=3,padding=1,stride=2)\n",
    "comp_conv2d(conv2d,X).shape"
   ]
  },
  {
   "cell_type": "code",
   "execution_count": 6,
   "id": "a8ccf5d8",
   "metadata": {},
   "outputs": [
    {
     "data": {
      "text/plain": [
       "torch.Size([2, 2])"
      ]
     },
     "execution_count": 6,
     "metadata": {},
     "output_type": "execute_result"
    }
   ],
   "source": [
    "#稍复杂的例子\n",
    "conv2d = nn.Conv2d(1, 1, kernel_size=(3, 5), padding=(0, 1), stride=(3, 4))\n",
    "comp_conv2d(conv2d, X).shape"
   ]
  },
  {
   "cell_type": "markdown",
   "id": "ec27bf67",
   "metadata": {},
   "source": [
    "# 答疑"
   ]
  },
  {
   "cell_type": "markdown",
   "id": "050c8a84",
   "metadata": {},
   "source": [
    "+ 通常步幅为1，但是不为1的情况是，输入图片很大，输出图片尺寸小，不想用很多层做这个事情，通常步幅取2，这样每次都是减半。\n",
    "+ 核大小是最关键的，填充一般是默认的，步幅是根据图片确定的。\n",
    "+ 卷积核的边长取奇数是为了对称，好计算一点。偶数的卷积核也没什么太多的区别。\n",
    "+ 若是每次输出维度都减半，是做不了很深的神经网络。\n",
    "+ 3*3的感受野虽然小，但是网络很深，这样最后一层每个元素可以可能看到足够多的输入信息\n",
    "+ 用小卷积核比大卷积核快，常用的就是3*3\n",
    "+ 简单的神经网络会被人记住，哪怕效果不是那么好\n"
   ]
  },
  {
   "cell_type": "code",
   "execution_count": null,
   "id": "5a5efd42",
   "metadata": {},
   "outputs": [],
   "source": []
  }
 ],
 "metadata": {
  "kernelspec": {
   "display_name": "Python [conda env:torch14] *",
   "language": "python",
   "name": "conda-env-torch14-py"
  },
  "language_info": {
   "codemirror_mode": {
    "name": "ipython",
    "version": 3
   },
   "file_extension": ".py",
   "mimetype": "text/x-python",
   "name": "python",
   "nbconvert_exporter": "python",
   "pygments_lexer": "ipython3",
   "version": "3.8.12"
  },
  "toc": {
   "base_numbering": 1,
   "nav_menu": {},
   "number_sections": true,
   "sideBar": true,
   "skip_h1_title": false,
   "title_cell": "Table of Contents",
   "title_sidebar": "Contents",
   "toc_cell": false,
   "toc_position": {},
   "toc_section_display": true,
   "toc_window_display": false
  }
 },
 "nbformat": 4,
 "nbformat_minor": 5
}
