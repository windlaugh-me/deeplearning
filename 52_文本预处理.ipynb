{
 "cells": [
  {
   "cell_type": "markdown",
   "id": "66bf0bc9",
   "metadata": {},
   "source": [
    "# 文本预处理"
   ]
  },
  {
   "cell_type": "markdown",
   "id": "ddd55264",
   "metadata": {},
   "source": [
    "***核心思想***   \n",
    "如何把词变成可以训练的东西"
   ]
  },
  {
   "cell_type": "code",
   "execution_count": 1,
   "id": "20750587",
   "metadata": {},
   "outputs": [],
   "source": [
    "import collections\n",
    "import re\n",
    "import d2l\n",
    "from d2l import torch as d2l"
   ]
  },
  {
   "cell_type": "markdown",
   "id": "cd51857e",
   "metadata": {},
   "source": [
    "## 读数据集"
   ]
  },
  {
   "cell_type": "code",
   "execution_count": 2,
   "id": "a47ad2dd",
   "metadata": {
    "scrolled": true
   },
   "outputs": [
    {
     "ename": "NameError",
     "evalue": "name 'f' is not defined",
     "output_type": "error",
     "traceback": [
      "\u001b[1;31m---------------------------------------------------------------------------\u001b[0m",
      "\u001b[1;31mNameError\u001b[0m                                 Traceback (most recent call last)",
      "Input \u001b[1;32mIn [2]\u001b[0m, in \u001b[0;36m<cell line: 17>\u001b[1;34m()\u001b[0m\n\u001b[0;32m     15\u001b[0m lines \u001b[38;5;241m=\u001b[39m read_time_machine()\n\u001b[0;32m     16\u001b[0m \u001b[38;5;66;03m## text lines: 3221\u001b[39;00m\n\u001b[1;32m---> 17\u001b[0m \u001b[38;5;28mprint\u001b[39m(\u001b[43mf\u001b[49m)\n\u001b[0;32m     18\u001b[0m \u001b[38;5;28mprint\u001b[39m(lines[\u001b[38;5;241m0\u001b[39m])\n\u001b[0;32m     19\u001b[0m \u001b[38;5;28mprint\u001b[39m(lines[\u001b[38;5;241m10\u001b[39m])\n",
      "\u001b[1;31mNameError\u001b[0m: name 'f' is not defined"
     ]
    }
   ],
   "source": [
    "#下载一本书 是一个txt文件\n",
    "d2l.DATA_HUB['time_machine'] = (d2l.DATA_URL + 'timemachine.txt',\n",
    "                                '090b5e7e70c295757f55df93cb0a180b9691891a')\n",
    "\n",
    "#将数据集读取到由文本行组成的列表中\n",
    "def read_time_machine():  \n",
    "    \"\"\"Load the time machine dataset into a list of text lines.\"\"\"\n",
    "    with open(d2l.download('time_machine'), 'r') as f:\n",
    "        lines = f.readlines()\n",
    "    #把非大小写字母的变成空格 lower()变小写\n",
    "    return [re.sub('[^A-Za-z]+', ' ', line).strip().lower() for line in lines]\n",
    "\n",
    "\n",
    "# lines为一维列表，每一个元素代表一行文本\n",
    "lines = read_time_machine()\n",
    "## text lines: 3221\n",
    "print(f)\n",
    "print(lines[0])\n",
    "print(lines[10])"
   ]
  },
  {
   "cell_type": "markdown",
   "id": "e5cb8df6",
   "metadata": {},
   "source": [
    "## 翻译成token"
   ]
  },
  {
   "cell_type": "code",
   "execution_count": 3,
   "id": "21aa2ab0",
   "metadata": {},
   "outputs": [
    {
     "name": "stdout",
     "output_type": "stream",
     "text": [
      "['the', 'time', 'machine', 'by', 'h', 'g', 'wells']\n",
      "[]\n",
      "[]\n",
      "[]\n",
      "[]\n",
      "['i']\n",
      "[]\n",
      "[]\n",
      "['the', 'time', 'traveller', 'for', 'so', 'it', 'will', 'be', 'convenient', 'to', 'speak', 'of', 'him']\n",
      "['was', 'expounding', 'a', 'recondite', 'matter', 'to', 'us', 'his', 'grey', 'eyes', 'shone', 'and']\n",
      "['twinkled', 'and', 'his', 'usually', 'pale', 'face', 'was', 'flushed', 'and', 'animated', 'the']\n"
     ]
    }
   ],
   "source": [
    "#token翻译成词元\n",
    "def tokenize(lines, token='word'):  \n",
    "    \"\"\"将文本行拆分为单词或字符标记。\"\"\"\n",
    "    if token == 'word':\n",
    "        return [line.split() for line in lines]\n",
    "    elif token == 'char':\n",
    "        return [list(line) for line in lines]\n",
    "    else:\n",
    "        print('错误：未知令牌类型：' + token)\n",
    "\n",
    "# 得到tokens为二维列表，表示将原始文本的每一行都切成词元后的结果\n",
    "tokens = tokenize(lines)\n",
    "for i in range(11):\n",
    "    print(tokens[i])"
   ]
  },
  {
   "cell_type": "markdown",
   "id": "091c9b14",
   "metadata": {},
   "source": [
    "## 构建一个字典，通常也叫做词表（vocabulary），用来将字符串标记映射到从0开始的数字索引中"
   ]
  },
  {
   "cell_type": "code",
   "execution_count": 4,
   "id": "cdc7e393",
   "metadata": {},
   "outputs": [],
   "source": [
    "#把不同的token映射到一个从0开始的索引上面\n",
    "#min_freq 如果一个token出现的次数少于min_freq，就丢掉，就不训练了\n",
    "class Vocab:  \n",
    "    \"\"\"文本词表\"\"\"\n",
    "    def __init__(self, tokens=None, min_freq=0, reserved_tokens=None):\n",
    "        if tokens is None:\n",
    "            tokens = []\n",
    "        if reserved_tokens is None:\n",
    "            reserved_tokens = []\n",
    "        # 得到 {词元:出现次数} 形式的字典\n",
    "        counter = count_corpus(tokens)\n",
    "        #对token出现次数排序\n",
    "        #key=lambda x: x[1]代表以x[1]排序，也就是出现次数排序\n",
    "        #reverse=True是指倒序排序\n",
    "        self.token_freqs = sorted(counter.items(), key=lambda x: x[1],reverse=True)\n",
    "        #self.unk是未知token，下标为0.reserved_tokens是保留的词元，保留的词元放在未知词元后面\n",
    "        self.unk, uniq_tokens = 0, ['<unk>'] + reserved_tokens\n",
    "        uniq_tokens += [\n",
    "            token for token, freq in self.token_freqs\n",
    "            #如果一个token出现的次数少于min_freq，就丢掉，就不训练了，样本个数太少的话，训练也没有意义\n",
    "            if freq >= min_freq and token not in uniq_tokens]\n",
    "        self.idx_to_token, self.token_to_idx = [], dict()\n",
    "        for token in uniq_tokens:\n",
    "             # 下标:词元 映射中就把该词元加进去，同时更新{词元:对应的下标idx}的字典\n",
    "            self.idx_to_token.append(token) \n",
    "            self.token_to_idx[token] = len(self.idx_to_token) - 1\n",
    "\n",
    "\n",
    "    #长度是uniq_tokens的个数\n",
    "    def __len__(self):\n",
    "        return len(self.idx_to_token)\n",
    "\n",
    "    #给一个token 返回index\n",
    "    def __getitem__(self, tokens):\n",
    "        # # 判断tokens是不是列表或元组，如果是，则返回tokens对应的idx值\n",
    "        if not isinstance(tokens, (list, tuple)): #判断是否为一个词语\n",
    "            # 如果token_to_idx里有tokens就返回对应的值，否则返回self.unk\n",
    "            return self.token_to_idx.get(tokens, self.unk)\n",
    "        return [self.__getitem__(token) for token in tokens] #如果为句子，则以列表形式返回\n",
    "\n",
    "    #给index 返回token\n",
    "    def to_tokens(self, indices):\n",
    "        if not isinstance(indices, (list, tuple)):#判断是否为1个id\n",
    "            return self.idx_to_token[indices]\n",
    "        return [self.idx_to_token[index] for index in indices] #如果为句子，则以列表形式返回\n",
    "\n",
    "#这里的tokens是1维或2维列表\n",
    "def count_corpus(tokens):  \n",
    "    \"\"\"统计标记的频率。\"\"\"\n",
    "    ## 一维列表为空 or 是二维列表\n",
    "    if len(tokens) == 0 or isinstance(tokens[0], list):\n",
    "        # 将词元列表展平成一个列表\n",
    "        tokens = [token for line in tokens for token in line]\n",
    "    #计算每个token出现的次数\n",
    "    #返回字典形式的key:value统计个数，注意没有排序哦\n",
    "    return collections.Counter(tokens)"
   ]
  },
  {
   "cell_type": "markdown",
   "id": "ae36fdf1",
   "metadata": {},
   "source": [
    "## 构建词汇表"
   ]
  },
  {
   "cell_type": "code",
   "execution_count": 13,
   "id": "81f3733e",
   "metadata": {},
   "outputs": [
    {
     "name": "stdout",
     "output_type": "stream",
     "text": [
      "[('<unk>', 0), ('the', 1), ('i', 2), ('and', 3), ('of', 4), ('a', 5), ('to', 6), ('was', 7), ('in', 8), ('that', 9), ('my', 10), ('it', 11), ('had', 12), ('me', 13), ('as', 14), ('at', 15), ('for', 16), ('with', 17), ('but', 18), ('time', 19)]\n",
      "4580\n"
     ]
    }
   ],
   "source": [
    "vocab = Vocab(tokens)\n",
    "print(list(vocab.token_to_idx.items())[:20])\n",
    "print(len(vocab))"
   ]
  },
  {
   "cell_type": "markdown",
   "id": "d1e5b320",
   "metadata": {},
   "source": [
    "## 将每一行文本转换成一个数字索引列表"
   ]
  },
  {
   "cell_type": "code",
   "execution_count": 23,
   "id": "0f33e732",
   "metadata": {},
   "outputs": [
    {
     "ename": "NameError",
     "evalue": "name 'tokens' is not defined",
     "output_type": "error",
     "traceback": [
      "\u001b[1;31m---------------------------------------------------------------------------\u001b[0m",
      "\u001b[1;31mNameError\u001b[0m                                 Traceback (most recent call last)",
      "Input \u001b[1;32mIn [23]\u001b[0m, in \u001b[0;36m<cell line: 1>\u001b[1;34m()\u001b[0m\n\u001b[0;32m      1\u001b[0m \u001b[38;5;28;01mfor\u001b[39;00m i \u001b[38;5;129;01min\u001b[39;00m [\u001b[38;5;241m0\u001b[39m, \u001b[38;5;241m10\u001b[39m]:\n\u001b[1;32m----> 2\u001b[0m     \u001b[38;5;28mprint\u001b[39m(\u001b[38;5;124m'\u001b[39m\u001b[38;5;124mwords:\u001b[39m\u001b[38;5;124m'\u001b[39m, \u001b[43mtokens\u001b[49m[i])\n\u001b[0;32m      3\u001b[0m     \u001b[38;5;28mprint\u001b[39m(\u001b[38;5;124m'\u001b[39m\u001b[38;5;124mindices:\u001b[39m\u001b[38;5;124m'\u001b[39m, vocab[tokens[i]])\n",
      "\u001b[1;31mNameError\u001b[0m: name 'tokens' is not defined"
     ]
    }
   ],
   "source": [
    "for i in [0, 10]:\n",
    "    print('words:', tokens[i])\n",
    "    print('indices:', vocab[tokens[i]])"
   ]
  },
  {
   "cell_type": "code",
   "execution_count": 24,
   "id": "717fdd70",
   "metadata": {},
   "outputs": [
    {
     "ename": "NameError",
     "evalue": "name 'read_time_machine' is not defined",
     "output_type": "error",
     "traceback": [
      "\u001b[1;31m---------------------------------------------------------------------------\u001b[0m",
      "\u001b[1;31mNameError\u001b[0m                                 Traceback (most recent call last)",
      "Input \u001b[1;32mIn [24]\u001b[0m, in \u001b[0;36m<cell line: 25>\u001b[1;34m()\u001b[0m\n\u001b[0;32m     22\u001b[0m         corpus \u001b[38;5;241m=\u001b[39m corpus[:max_tokens]\n\u001b[0;32m     23\u001b[0m     \u001b[38;5;28;01mreturn\u001b[39;00m corpus, vocab\n\u001b[1;32m---> 25\u001b[0m corpus, vocab \u001b[38;5;241m=\u001b[39m \u001b[43mload_corpus_time_machine\u001b[49m\u001b[43m(\u001b[49m\u001b[43m)\u001b[49m\n\u001b[0;32m     26\u001b[0m \u001b[38;5;28mlen\u001b[39m(corpus), \u001b[38;5;28mlen\u001b[39m(vocab)\n",
      "Input \u001b[1;32mIn [24]\u001b[0m, in \u001b[0;36mload_corpus_time_machine\u001b[1;34m(max_tokens)\u001b[0m\n\u001b[0;32m      8\u001b[0m \u001b[38;5;28;01mdef\u001b[39;00m \u001b[38;5;21mload_corpus_time_machine\u001b[39m(max_tokens\u001b[38;5;241m=\u001b[39m\u001b[38;5;241m-\u001b[39m\u001b[38;5;241m1\u001b[39m):  \n\u001b[0;32m      9\u001b[0m     \u001b[38;5;124;03m\"\"\"返回时光机器数据集的标记索引列表和词汇表。\"\"\"\u001b[39;00m\n\u001b[1;32m---> 10\u001b[0m     lines \u001b[38;5;241m=\u001b[39m \u001b[43mread_time_machine\u001b[49m()\n\u001b[0;32m     11\u001b[0m     tokens \u001b[38;5;241m=\u001b[39m tokenize(lines, \u001b[38;5;124m'\u001b[39m\u001b[38;5;124mchar\u001b[39m\u001b[38;5;124m'\u001b[39m)\n\u001b[0;32m     12\u001b[0m     vocab \u001b[38;5;241m=\u001b[39m Vocab(tokens)\n",
      "\u001b[1;31mNameError\u001b[0m: name 'read_time_machine' is not defined"
     ]
    }
   ],
   "source": [
    "#所有内容打包到load_corpus_time_machine函数中\n",
    "'''在使⽤上述函数时，我们将所有功能打包到load_corpus_time_machine函数中，该函数返回\n",
    "corpus（词元索引列表）和vocab（时光机器语料库的词表）。我们在这⾥所做的改变是：\n",
    "    1. 为了简化后⾯章节中的训练，我们使⽤字符（⽽不是单词）实现⽂本词元化；\n",
    "    2. 时光机器数据集中的每个⽂本⾏不⼀定是⼀个句⼦或⼀个段落，还可能是⼀个单词，因此\n",
    "    返回的corpus仅处理为单个列表，⽽不是使⽤多词元列表构成的⼀个列表\n",
    "'''\n",
    "def load_corpus_time_machine(max_tokens=-1):  \n",
    "    \"\"\"返回时光机器数据集的标记索引列表和词汇表。\"\"\"\n",
    "    lines = read_time_machine()\n",
    "    tokens = tokenize(lines, 'char')\n",
    "    vocab = Vocab(tokens)\n",
    "    '''这里等价于\n",
    "        for line in tokens:\n",
    "            for token in line:\n",
    "                corpus.append(vocab[token])\n",
    "    也就是对于每一行的每个词元，我都去查一下词表，然后添加到corpus里面。\n",
    "    所以corpus存储的是《时光机器》这本书的词元表示，vocab是词表。\n",
    "    搞懂这个其实就可以了！'''\n",
    "    corpus = [vocab[token] for line in tokens for token in line]\n",
    "    if max_tokens > 0:\n",
    "        corpus = corpus[:max_tokens]\n",
    "    return corpus, vocab\n",
    "\n",
    "corpus, vocab = load_corpus_time_machine()\n",
    "len(corpus), len(vocab)"
   ]
  },
  {
   "cell_type": "markdown",
   "id": "e5f0deb4",
   "metadata": {},
   "source": [
    "# 答疑"
   ]
  },
  {
   "cell_type": "markdown",
   "id": "58fadcb8",
   "metadata": {},
   "source": [
    "- 模型训练的是数字，不是字符串，所以读到文本，然后拆分成token，映射成下标\n",
    "- 排序的好处是常见的词排在前面，会对cache好一点\n",
    "- 需要注意的是，不管是训练还是测试，都只能用一个vocab(词元和下标的对应关系），如果用两个vocab就乱套了。"
   ]
  }
 ],
 "metadata": {
  "kernelspec": {
   "display_name": "Python [conda env:torch14] *",
   "language": "python",
   "name": "conda-env-torch14-py"
  },
  "language_info": {
   "codemirror_mode": {
    "name": "ipython",
    "version": 3
   },
   "file_extension": ".py",
   "mimetype": "text/x-python",
   "name": "python",
   "nbconvert_exporter": "python",
   "pygments_lexer": "ipython3",
   "version": "3.8.12"
  },
  "toc": {
   "base_numbering": 1,
   "nav_menu": {},
   "number_sections": true,
   "sideBar": true,
   "skip_h1_title": false,
   "title_cell": "Table of Contents",
   "title_sidebar": "Contents",
   "toc_cell": false,
   "toc_position": {},
   "toc_section_display": true,
   "toc_window_display": false
  }
 },
 "nbformat": 4,
 "nbformat_minor": 5
}
