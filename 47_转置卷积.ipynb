{
 "cells": [
  {
   "cell_type": "markdown",
   "id": "d12a33e6",
   "metadata": {},
   "source": [
    "# 转置卷积"
   ]
  },
  {
   "attachments": {
    "image.png": {
     "image/png": "[encoded data removed]"
    }
   },
   "cell_type": "markdown",
   "id": "46c2e5af",
   "metadata": {},
   "source": [
    "![image.png](attachment:image.png)"
   ]
  },
  {
   "cell_type": "code",
   "execution_count": 7,
   "id": "467a3e1d",
   "metadata": {},
   "outputs": [],
   "source": [
    "import torch\n",
    "from torch import nn\n",
    "from d2l import torch as d2l"
   ]
  },
  {
   "cell_type": "markdown",
   "id": "b7fee9e1",
   "metadata": {},
   "source": [
    "## 实现基本的转置卷积运算"
   ]
  },
  {
   "cell_type": "code",
   "execution_count": 8,
   "id": "fb985dc7",
   "metadata": {},
   "outputs": [],
   "source": [
    "def trans_conv(X,K):\n",
    "    h,w=K.shape\n",
    "    Y=torch.zeros(X.shape[0]+h-1,X.shape[1]+w-1)\n",
    "    for i in range(X.shape[0]):\n",
    "        for j in range(X.shape[1]):\n",
    "            Y[i:i+h,j:j+h]+=X[i,j]*K\n",
    "    return Y"
   ]
  },
  {
   "cell_type": "markdown",
   "id": "4c33482c",
   "metadata": {},
   "source": [
    "### 验证上述计算"
   ]
  },
  {
   "cell_type": "code",
   "execution_count": 9,
   "id": "3d7457df",
   "metadata": {},
   "outputs": [
    {
     "data": {
      "text/plain": [
       "tensor([[ 0.,  0.,  1.],\n",
       "        [ 0.,  4.,  6.],\n",
       "        [ 4., 12.,  9.]])"
      ]
     },
     "execution_count": 9,
     "metadata": {},
     "output_type": "execute_result"
    }
   ],
   "source": [
    "X=torch.tensor([[0,1],[2,3]])\n",
    "K=torch.tensor([[0,1],[2,3]])\n",
    "trans_conv(X,K)"
   ]
  },
  {
   "cell_type": "markdown",
   "id": "cf466d94",
   "metadata": {},
   "source": [
    "### 使用API实现"
   ]
  },
  {
   "cell_type": "code",
   "execution_count": 16,
   "id": "ca9bdfa7",
   "metadata": {},
   "outputs": [],
   "source": [
    "X, K = X.reshape(1, 1, 2, 2), K.reshape(1, 1, 2, 2)\n",
    "tconv = nn.ConvTranspose2d(1, 1, kernel_size=2, bias=False)\n",
    "tconv.weight.data = K\n",
    "with torch.no_grad():\n",
    "    tconv(X)\n"
   ]
  },
  {
   "cell_type": "markdown",
   "id": "678ee259",
   "metadata": {},
   "source": [
    "tconv = nn.ConvTranspose2d(1, 1, kernel_size=2, padding=1, bias=False)\n",
    "tconv.weight.data = K\n",
    "tconv(X)"
   ]
  },
  {
   "cell_type": "markdown",
   "id": "466731d0",
   "metadata": {},
   "source": [
    "## 填充步幅和多通道"
   ]
  },
  {
   "cell_type": "code",
   "execution_count": 19,
   "id": "c5ea99d4",
   "metadata": {},
   "outputs": [
    {
     "ename": "SyntaxError",
     "evalue": "invalid character in identifier (3331500389.py, line 1)",
     "output_type": "error",
     "traceback": [
      "\u001b[1;36m  Input \u001b[1;32mIn [19]\u001b[1;36m\u001b[0m\n\u001b[1;33m    X=torch.tensor([[1,2],[3,4]，[5,6]])\u001b[0m\n\u001b[1;37m                               ^\u001b[0m\n\u001b[1;31mSyntaxError\u001b[0m\u001b[1;31m:\u001b[0m invalid character in identifier\n"
     ]
    }
   ],
   "source": [
    "X=torch.tensor([[1,2],[3,4]，[5,6]])\n",
    "X.reshape(2,-1)"
   ]
  },
  {
   "cell_type": "markdown",
   "id": "c077636b",
   "metadata": {},
   "source": [
    "## 与矩阵变换的联系"
   ]
  },
  {
   "cell_type": "markdown",
   "id": "cb68a5bd",
   "metadata": {},
   "source": [
    "# 答疑"
   ]
  },
  {
   "cell_type": "markdown",
   "id": "51901479",
   "metadata": {},
   "source": [
    "- 转置卷积得到原始输入的尺寸大小，将图像尺寸变大\n",
    "- 语义分割的转置卷积不仅要做插值，还要做一次标签的语义转换的过程\n",
    "- 转置卷积只是把那个形状还原成之前的样子，但是值并不是还原，不是把卷积还原，不是预测之前图像的每个像素的RGB值，是要预测每个像素的label "
   ]
  }
 ],
 "metadata": {
  "kernelspec": {
   "display_name": "Python [conda env:torch14] *",
   "language": "python",
   "name": "conda-env-torch14-py"
  },
  "language_info": {
   "codemirror_mode": {
    "name": "ipython",
    "version": 3
   },
   "file_extension": ".py",
   "mimetype": "text/x-python",
   "name": "python",
   "nbconvert_exporter": "python",
   "pygments_lexer": "ipython3",
   "version": "3.8.12"
  },
  "toc": {
   "base_numbering": 1,
   "nav_menu": {},
   "number_sections": true,
   "sideBar": true,
   "skip_h1_title": false,
   "title_cell": "Table of Contents",
   "title_sidebar": "Contents",
   "toc_cell": false,
   "toc_position": {},
   "toc_section_display": true,
   "toc_window_display": false
  }
 },
 "nbformat": 4,
 "nbformat_minor": 5
}
